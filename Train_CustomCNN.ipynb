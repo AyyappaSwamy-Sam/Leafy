{
 "cells": [
  {
   "cell_type": "markdown",
   "metadata": {
    "papermill": {
     "duration": 0.059875,
     "end_time": "2020-12-15T06:52:44.191791",
     "exception": false,
     "start_time": "2020-12-15T06:52:44.131916",
     "status": "completed"
    },
    "tags": []
   },
   "source": [
    "# ☘️ PLANT DISEASE CLASSIFICATION USING Custom CNN ☘️"
   ]
  },
  {
   "cell_type": "markdown",
   "metadata": {
    "papermill": {
     "duration": 0.056728,
     "end_time": "2020-12-15T06:52:44.447613",
     "exception": false,
     "start_time": "2020-12-15T06:52:44.390885",
     "status": "completed"
    },
    "tags": []
   },
   "source": [
    "# Description of the dataset 📝"
   ]
  },
  {
   "cell_type": "markdown",
   "metadata": {
    "papermill": {
     "duration": 0.057571,
     "end_time": "2020-12-15T06:52:44.675922",
     "exception": false,
     "start_time": "2020-12-15T06:52:44.618351",
     "status": "completed"
    },
    "tags": []
   },
   "source": [
    "# Our goal 🎯\n",
    "Goal is clear and simple. We need to build a model, which can classify between healthy and diseased crop leaves and also if the crop have any disease, predict which disease is it."
   ]
  },
  {
   "cell_type": "markdown",
   "metadata": {
    "papermill": {
     "duration": 0.056957,
     "end_time": "2020-12-15T06:52:44.789985",
     "exception": false,
     "start_time": "2020-12-15T06:52:44.733028",
     "status": "completed"
    },
    "tags": []
   },
   "source": [
    "##### Let's get started...."
   ]
  },
  {
   "cell_type": "markdown",
   "metadata": {
    "papermill": {
     "duration": 0.056658,
     "end_time": "2020-12-15T06:52:44.903338",
     "exception": false,
     "start_time": "2020-12-15T06:52:44.846680",
     "status": "completed"
    },
    "tags": []
   },
   "source": [
    "## Importing necessary libraries"
   ]
  },
  {
   "cell_type": "markdown",
   "metadata": {
    "papermill": {
     "duration": 0.057862,
     "end_time": "2020-12-15T06:52:45.017851",
     "exception": false,
     "start_time": "2020-12-15T06:52:44.959989",
     "status": "completed"
    },
    "tags": []
   },
   "source": [
    "Let's import required modules"
   ]
  },
  {
   "cell_type": "markdown",
   "metadata": {
    "papermill": {
     "duration": 0.058411,
     "end_time": "2020-12-15T06:52:54.403660",
     "exception": false,
     "start_time": "2020-12-15T06:52:54.345249",
     "status": "completed"
    },
    "tags": []
   },
   "source": [
    "We would require torchsummary library to print the model's summary in keras style (nicely formatted and pretty to look) as Pytorch natively doesn't support that"
   ]
  },
  {
   "cell_type": "code",
   "execution_count": 1,
   "metadata": {
    "_cell_guid": "b1076dfc-b9ad-4769-8c92-a6c4dae69d19",
    "_uuid": "8f2839f25d086af736a60e9eeb907d3b93b6e0e5",
    "execution": {
     "iopub.execute_input": "2020-12-15T06:52:54.531023Z",
     "iopub.status.busy": "2020-12-15T06:52:54.530191Z",
     "iopub.status.idle": "2020-12-15T06:52:56.166219Z",
     "shell.execute_reply": "2020-12-15T06:52:56.164951Z"
    },
    "papermill": {
     "duration": 1.704433,
     "end_time": "2020-12-15T06:52:56.166377",
     "exception": false,
     "start_time": "2020-12-15T06:52:54.461944",
     "status": "completed"
    },
    "tags": []
   },
   "outputs": [
    {
     "name": "stderr",
     "output_type": "stream",
     "text": [
      "2025-08-13 01:57:09.786612: I tensorflow/core/util/port.cc:153] oneDNN custom operations are on. You may see slightly different numerical results due to floating-point round-off errors from different computation orders. To turn them off, set the environment variable `TF_ENABLE_ONEDNN_OPTS=0`.\n",
      "2025-08-13 01:57:09.796960: E external/local_xla/xla/stream_executor/cuda/cuda_fft.cc:467] Unable to register cuFFT factory: Attempting to register factory for plugin cuFFT when one has already been registered\n",
      "WARNING: All log messages before absl::InitializeLog() is called are written to STDERR\n",
      "E0000 00:00:1755030429.809513   52218 cuda_dnn.cc:8579] Unable to register cuDNN factory: Attempting to register factory for plugin cuDNN when one has already been registered\n",
      "E0000 00:00:1755030429.813635   52218 cuda_blas.cc:1407] Unable to register cuBLAS factory: Attempting to register factory for plugin cuBLAS when one has already been registered\n",
      "W0000 00:00:1755030429.823595   52218 computation_placer.cc:177] computation placer already registered. Please check linkage and avoid linking the same target more than once.\n",
      "W0000 00:00:1755030429.823610   52218 computation_placer.cc:177] computation placer already registered. Please check linkage and avoid linking the same target more than once.\n",
      "W0000 00:00:1755030429.823611   52218 computation_placer.cc:177] computation placer already registered. Please check linkage and avoid linking the same target more than once.\n",
      "W0000 00:00:1755030429.823612   52218 computation_placer.cc:177] computation placer already registered. Please check linkage and avoid linking the same target more than once.\n",
      "2025-08-13 01:57:09.826599: I tensorflow/core/platform/cpu_feature_guard.cc:210] This TensorFlow binary is optimized to use available CPU instructions in performance-critical operations.\n",
      "To enable the following instructions: AVX2 AVX_VNNI FMA, in other operations, rebuild TensorFlow with the appropriate compiler flags.\n"
     ]
    }
   ],
   "source": [
    "import torch\n",
    "import torch.nn as nn\n",
    "import torch.optim as optim\n",
    "from torch.utils.data import DataLoader\n",
    "from torchvision import datasets, transforms\n",
    "from torch.utils.tensorboard import SummaryWriter\n",
    "import os\n",
    "import numpy as np\n",
    "import time\n",
    "import pandas as pd\n",
    "import matplotlib.pyplot as plt\n",
    "from tqdm import tqdm\n",
    "from torchsummary import summary\n",
    "import json\n",
    "from sklearn.metrics import confusion_matrix, classification_report\n",
    "import seaborn as sns\n",
    "\n",
    "# This is a Jupyter magic command to display plots inline\n",
    "%matplotlib inline"
   ]
  },
  {
   "cell_type": "markdown",
   "metadata": {
    "papermill": {
     "duration": 0.058296,
     "end_time": "2020-12-15T06:52:56.283998",
     "exception": false,
     "start_time": "2020-12-15T06:52:56.225702",
     "status": "completed"
    },
    "tags": []
   },
   "source": [
    "# 🧭 Exploring the data 🧭"
   ]
  },
  {
   "cell_type": "markdown",
   "metadata": {
    "papermill": {
     "duration": 0.05825,
     "end_time": "2020-12-15T06:52:56.400725",
     "exception": false,
     "start_time": "2020-12-15T06:52:56.342475",
     "status": "completed"
    },
    "tags": []
   },
   "source": [
    "Loading the data "
   ]
  },
  {
   "cell_type": "code",
   "execution_count": 2,
   "metadata": {
    "execution": {
     "iopub.execute_input": "2020-12-15T06:52:56.522416Z",
     "iopub.status.busy": "2020-12-15T06:52:56.521802Z",
     "iopub.status.idle": "2020-12-15T06:52:56.536807Z",
     "shell.execute_reply": "2020-12-15T06:52:56.536213Z"
    },
    "papermill": {
     "duration": 0.07813,
     "end_time": "2020-12-15T06:52:56.536899",
     "exception": false,
     "start_time": "2020-12-15T06:52:56.458769",
     "status": "completed"
    },
    "tags": []
   },
   "outputs": [],
   "source": [
    "DATA_DIR = \"./new_data\"\n",
    "train_dir = DATA_DIR + \"/train\"\n",
    "valid_dir = DATA_DIR + \"/val\"\n",
    "test_dir = DATA_DIR + \"/test\"\n",
    "diseases = os.listdir(train_dir)"
   ]
  },
  {
   "cell_type": "code",
   "execution_count": 3,
   "metadata": {
    "execution": {
     "iopub.execute_input": "2020-12-15T06:52:56.660806Z",
     "iopub.status.busy": "2020-12-15T06:52:56.660131Z",
     "iopub.status.idle": "2020-12-15T06:52:56.663554Z",
     "shell.execute_reply": "2020-12-15T06:52:56.664320Z"
    },
    "papermill": {
     "duration": 0.068176,
     "end_time": "2020-12-15T06:52:56.664465",
     "exception": false,
     "start_time": "2020-12-15T06:52:56.596289",
     "status": "completed"
    },
    "tags": []
   },
   "outputs": [
    {
     "name": "stdout",
     "output_type": "stream",
     "text": [
      "['Chili__whitefly', 'Grape___black_rot', 'Pomegranate__healthy', 'Sugercane___rust', 'Cassava___bacterial_blight', 'Cassava___healthy', 'Gauva__healthy', 'Tea__healthy', 'Sugercane___red_rot', 'Rose___healthy', 'Potato___healthy', 'Sugarcane__bacterial_blight', 'Tomato___target_spot', 'Tea__algal_leaf', 'Tea__brown_blight', 'Wheat__septoria', 'Soybean__rust', 'Mango__healthy', 'Strawberry___healthy', 'Corn__gray_leaf_spot', 'Rice__hispa', 'Jamun__healthy', 'Raspberry___healthy', 'Corn___common_rust', 'Soybean__downy_mildew', 'Apple___gray_spot', 'Orange___citrus_greening', 'Bell_pepper___bacterial_spot', 'Cherry___healthy', 'Lemon__healthy', 'Pomegranate__diseased', 'Potato___early_blight', 'Grape___healthy', 'Wheat__brown_rust', 'Tea__anthracnose', 'Rice___brown_spot', 'Lemon__diseased', 'Rice___tungro', 'Tomato___late_blight', 'Rice__leaf_blast', 'Rice__healthy', 'Watermelon___healthy', 'Potato___phytophthora', 'Potato___nematode', 'Corn___northern_leaf_blight', 'Watermelon___mosaic_virus', 'Mango__diseased', 'Soybean__bacterial_blight', 'Blueberry___healthy', 'Tomato__yellow_leaf_curl_virus', 'Strawberry___leaf_scorch', 'Apple___healthy', 'Coffee__cercospora_leaf_spot', 'Rice___bacterial_blight', 'Wheat__healthy', 'Soybean__powdery_mildew', 'Tomato___leaf_mold', 'Squash___powdery_mildew', 'Pepper_bell__bacterial_spot', 'Potato___late_blight', 'Gauva__diseased', 'Peach___healthy', 'Tea__bird_eye_spot', 'Grape___Leaf_blight', 'Coffee___healthy', 'Tomato___leaf_curl', 'Chili__yellowish', 'Apple___rust', 'Soybean__healthy', 'Potato___leafroll_virus', 'Apple___brown_spot', 'Cucumber__diseased', 'Tomato___bacterial_spot', 'Cucumber__healthy', 'Apple___scab', 'Cassava___mosaic_disease', 'Apple___alternaria_leaf_spot', 'Tomato___healthy', 'Potato___bacterial_wilt', 'Soybean__diabrotica_speciosa', 'Rice__neck_blast', 'Apple___black_rot', 'Tomato___early_blight', 'Cherry___powdery_mildew', 'Sugercane___mosaic', 'Tomato___mosaic_virus', 'Rice___blast', 'Watermelon___downy_mildew', 'Soybean__mosaic_virus', 'Corn___healthy', 'Chili__leaf spot', 'Jamun__diseased', 'Tomato___spider_mites', 'Sugercane___yellow_leaf', 'Watermelon___anthracnose', 'Grape___black_measles', 'Soybean__caterpillar', 'Wheat__yellow_rust', 'Pepper_bell__healthy', 'Peach___bacterial_spot', 'Rose___slug_sawfly', 'Tomato___septoria_leaf_spot', 'Cassava___green_mottle', 'Tea__red_leaf_spot', 'Chili__leaf curl', 'Cassava___brown_streak_disease', 'Coffee___rust', 'Potato___pests', 'Sugercane___healthy', 'Soybean__southern_blight', 'Potato___mosaic_virus', 'Coffee___red_spider_mite', 'Sugarcane__red_stripe', 'Chili__healthy', 'Bell_pepper___healthy', 'Rose___rust']\n"
     ]
    }
   ],
   "source": [
    "# printing the disease names\n",
    "print(diseases)"
   ]
  },
  {
   "cell_type": "code",
   "execution_count": 4,
   "metadata": {
    "execution": {
     "iopub.execute_input": "2020-12-15T06:52:56.789812Z",
     "iopub.status.busy": "2020-12-15T06:52:56.789079Z",
     "iopub.status.idle": "2020-12-15T06:52:56.792917Z",
     "shell.execute_reply": "2020-12-15T06:52:56.792464Z"
    },
    "papermill": {
     "duration": 0.068791,
     "end_time": "2020-12-15T06:52:56.793019",
     "exception": false,
     "start_time": "2020-12-15T06:52:56.724228",
     "status": "completed"
    },
    "tags": []
   },
   "outputs": [
    {
     "name": "stdout",
     "output_type": "stream",
     "text": [
      "Total disease classes are: 116\n"
     ]
    }
   ],
   "source": [
    "print(\"Total disease classes are: {}\".format(len(diseases)))"
   ]
  },
  {
   "cell_type": "code",
   "execution_count": 5,
   "metadata": {},
   "outputs": [],
   "source": [
    "MODEL_NAME = \"CustomCNN_v1\"\n",
    "NUM_CLASSES = 116\n",
    "\n",
    "CHECKPOINT_DIR = f\"./models/{MODEL_NAME}\"\n",
    "os.makedirs(CHECKPOINT_DIR, exist_ok=True)"
   ]
  },
  {
   "cell_type": "code",
   "execution_count": 6,
   "metadata": {},
   "outputs": [],
   "source": [
    "REAL_BATCH_SIZE = 16 \n",
    "\n",
    "# The desired effective batch size for stable gradients\n",
    "VIRTUAL_BATCH_SIZE = 64 \n",
    "\n",
    "# Calculate the number of accumulation steps needed\n",
    "# This ensures VIRTUAL_BATCH_SIZE is a multiple of REAL_BATCH_SIZE\n",
    "assert VIRTUAL_BATCH_SIZE % REAL_BATCH_SIZE == 0, \"Virtual batch size must be a multiple of real batch size!\"\n",
    "accumulation_steps = VIRTUAL_BATCH_SIZE // REAL_BATCH_SIZE\n",
    "\n",
    "# Set the dataloader's batch size to the REAL batch size\n",
    "BATCH_SIZE = REAL_BATCH_SIZE"
   ]
  },
  {
   "cell_type": "code",
   "execution_count": 7,
   "metadata": {},
   "outputs": [],
   "source": [
    "writer = SummaryWriter(f'runs/{MODEL_NAME}')"
   ]
  },
  {
   "cell_type": "markdown",
   "metadata": {
    "papermill": {
     "duration": 0.069462,
     "end_time": "2020-12-15T06:52:57.055273",
     "exception": false,
     "start_time": "2020-12-15T06:52:56.985811",
     "status": "completed"
    },
    "tags": []
   },
   "source": [
    "The above cell extract the number of unique plants and number of unique diseases"
   ]
  },
  {
   "cell_type": "code",
   "execution_count": 8,
   "metadata": {},
   "outputs": [],
   "source": [
    "plants = []\n",
    "NumberOfDiseases = 0\n",
    "for plant in diseases:\n",
    "    if plant.split('__')[0] not in plants:\n",
    "        plants.append(plant.split('__')[0])\n",
    "    if plant.split('__')[1] != 'healthy':\n",
    "        NumberOfDiseases += 1"
   ]
  },
  {
   "cell_type": "code",
   "execution_count": 9,
   "metadata": {
    "execution": {
     "iopub.execute_input": "2020-12-15T06:52:57.183047Z",
     "iopub.status.busy": "2020-12-15T06:52:57.182397Z",
     "iopub.status.idle": "2020-12-15T06:52:57.186314Z",
     "shell.execute_reply": "2020-12-15T06:52:57.185696Z"
    },
    "papermill": {
     "duration": 0.068933,
     "end_time": "2020-12-15T06:52:57.186415",
     "exception": false,
     "start_time": "2020-12-15T06:52:57.117482",
     "status": "completed"
    },
    "tags": []
   },
   "outputs": [
    {
     "name": "stdout",
     "output_type": "stream",
     "text": [
      "Unique Plants are: \n",
      "['Chili', 'Grape', 'Pomegranate', 'Sugercane', 'Cassava', 'Gauva', 'Tea', 'Rose', 'Potato', 'Sugarcane', 'Tomato', 'Wheat', 'Soybean', 'Mango', 'Strawberry', 'Corn', 'Rice', 'Jamun', 'Raspberry', 'Apple', 'Orange', 'Bell_pepper', 'Cherry', 'Lemon', 'Watermelon', 'Blueberry', 'Coffee', 'Squash', 'Pepper_bell', 'Peach', 'Cucumber']\n"
     ]
    }
   ],
   "source": [
    "# unique plants in the dataset\n",
    "print(f\"Unique Plants are: \\n{plants}\")"
   ]
  },
  {
   "cell_type": "code",
   "execution_count": 10,
   "metadata": {
    "execution": {
     "iopub.execute_input": "2020-12-15T06:52:57.313744Z",
     "iopub.status.busy": "2020-12-15T06:52:57.313076Z",
     "iopub.status.idle": "2020-12-15T06:52:57.316355Z",
     "shell.execute_reply": "2020-12-15T06:52:57.317088Z"
    },
    "papermill": {
     "duration": 0.069891,
     "end_time": "2020-12-15T06:52:57.317251",
     "exception": false,
     "start_time": "2020-12-15T06:52:57.247360",
     "status": "completed"
    },
    "tags": []
   },
   "outputs": [
    {
     "name": "stdout",
     "output_type": "stream",
     "text": [
      "Number of plants: 31\n"
     ]
    }
   ],
   "source": [
    "# number of unique plants\n",
    "print(\"Number of plants: {}\".format(len(plants)))"
   ]
  },
  {
   "cell_type": "code",
   "execution_count": 11,
   "metadata": {
    "execution": {
     "iopub.execute_input": "2020-12-15T06:52:57.444856Z",
     "iopub.status.busy": "2020-12-15T06:52:57.444130Z",
     "iopub.status.idle": "2020-12-15T06:52:57.447598Z",
     "shell.execute_reply": "2020-12-15T06:52:57.448386Z"
    },
    "papermill": {
     "duration": 0.069339,
     "end_time": "2020-12-15T06:52:57.448580",
     "exception": false,
     "start_time": "2020-12-15T06:52:57.379241",
     "status": "completed"
    },
    "tags": []
   },
   "outputs": [
    {
     "name": "stdout",
     "output_type": "stream",
     "text": [
      "Number of diseases: 104\n"
     ]
    }
   ],
   "source": [
    "# number of unique diseases\n",
    "print(\"Number of diseases: {}\".format(NumberOfDiseases))"
   ]
  },
  {
   "cell_type": "code",
   "execution_count": 12,
   "metadata": {},
   "outputs": [],
   "source": [
    "CHECKPOINT_DIR = f\"./models/{MODEL_NAME}\"\n",
    "os.makedirs(CHECKPOINT_DIR, exist_ok=True)"
   ]
  },
  {
   "cell_type": "markdown",
   "metadata": {
    "papermill": {
     "duration": 0.062489,
     "end_time": "2020-12-15T06:52:57.574134",
     "exception": false,
     "start_time": "2020-12-15T06:52:57.511645",
     "status": "completed"
    },
    "tags": []
   },
   "source": [
    "So we have images of leaves of 14 plants and while excluding healthy leaves, we have 26 types of images that show a particular disease in a particular plant."
   ]
  },
  {
   "cell_type": "code",
   "execution_count": 13,
   "metadata": {
    "execution": {
     "iopub.execute_input": "2020-12-15T06:52:57.704194Z",
     "iopub.status.busy": "2020-12-15T06:52:57.703583Z",
     "iopub.status.idle": "2020-12-15T06:53:03.960106Z",
     "shell.execute_reply": "2020-12-15T06:53:03.960800Z"
    },
    "papermill": {
     "duration": 6.323955,
     "end_time": "2020-12-15T06:53:03.960987",
     "exception": false,
     "start_time": "2020-12-15T06:52:57.637032",
     "status": "completed"
    },
    "tags": []
   },
   "outputs": [
    {
     "data": {
      "application/vnd.microsoft.datawrangler.viewer.v0+json": {
       "columns": [
        {
         "name": "index",
         "rawType": "object",
         "type": "string"
        },
        {
         "name": "no. of images",
         "rawType": "int64",
         "type": "integer"
        }
       ],
       "ref": "10442b1f-8ee3-4479-8c14-0cadc786e3f8",
       "rows": [
        [
         "Chili__whitefly",
         "80"
        ],
        [
         "Grape___black_rot",
         "1264"
        ],
        [
         "Pomegranate__healthy",
         "229"
        ],
        [
         "Sugercane___rust",
         "411"
        ],
        [
         "Cassava___bacterial_blight",
         "869"
        ],
        [
         "Cassava___healthy",
         "2061"
        ],
        [
         "Gauva__healthy",
         "221"
        ],
        [
         "Tea__healthy",
         "177"
        ],
        [
         "Sugercane___red_rot",
         "414"
        ],
        [
         "Rose___healthy",
         "3982"
        ],
        [
         "Potato___healthy",
         "1820"
        ],
        [
         "Sugarcane__bacterial_blight",
         "80"
        ],
        [
         "Tomato___target_spot",
         "1123"
        ],
        [
         "Tea__algal_leaf",
         "271"
        ],
        [
         "Tea__brown_blight",
         "271"
        ],
        [
         "Wheat__septoria",
         "77"
        ],
        [
         "Soybean__rust",
         "52"
        ],
        [
         "Mango__healthy",
         "136"
        ],
        [
         "Strawberry___healthy",
         "364"
        ],
        [
         "Corn__gray_leaf_spot",
         "875"
        ],
        [
         "Rice__hispa",
         "452"
        ],
        [
         "Jamun__healthy",
         "223"
        ],
        [
         "Raspberry___healthy",
         "296"
        ],
        [
         "Corn___common_rust",
         "953"
        ],
        [
         "Soybean__downy_mildew",
         "40"
        ],
        [
         "Apple___gray_spot",
         "316"
        ],
        [
         "Orange___citrus_greening",
         "4405"
        ],
        [
         "Bell_pepper___bacterial_spot",
         "797"
        ],
        [
         "Cherry___healthy",
         "683"
        ],
        [
         "Lemon__healthy",
         "127"
        ],
        [
         "Pomegranate__diseased",
         "217"
        ],
        [
         "Potato___early_blight",
         "2102"
        ],
        [
         "Grape___healthy",
         "1364"
        ],
        [
         "Wheat__brown_rust",
         "732"
        ],
        [
         "Tea__anthracnose",
         "240"
        ],
        [
         "Rice___brown_spot",
         "1280"
        ],
        [
         "Lemon__diseased",
         "61"
        ],
        [
         "Rice___tungro",
         "1046"
        ],
        [
         "Tomato___late_blight",
         "1527"
        ],
        [
         "Rice__leaf_blast",
         "784"
        ],
        [
         "Rice__healthy",
         "1190"
        ],
        [
         "Watermelon___healthy",
         "164"
        ],
        [
         "Potato___phytophthora",
         "277"
        ],
        [
         "Potato___nematode",
         "54"
        ],
        [
         "Corn___northern_leaf_blight",
         "788"
        ],
        [
         "Watermelon___mosaic_virus",
         "332"
        ],
        [
         "Mango__diseased",
         "212"
        ],
        [
         "Soybean__bacterial_blight",
         "44"
        ],
        [
         "Blueberry___healthy",
         "1201"
        ],
        [
         "Tomato__yellow_leaf_curl_virus",
         "2571"
        ]
       ],
       "shape": {
        "columns": 1,
        "rows": 116
       }
      },
      "text/html": [
       "<div>\n",
       "<style scoped>\n",
       "    .dataframe tbody tr th:only-of-type {\n",
       "        vertical-align: middle;\n",
       "    }\n",
       "\n",
       "    .dataframe tbody tr th {\n",
       "        vertical-align: top;\n",
       "    }\n",
       "\n",
       "    .dataframe thead th {\n",
       "        text-align: right;\n",
       "    }\n",
       "</style>\n",
       "<table border=\"1\" class=\"dataframe\">\n",
       "  <thead>\n",
       "    <tr style=\"text-align: right;\">\n",
       "      <th></th>\n",
       "      <th>no. of images</th>\n",
       "    </tr>\n",
       "  </thead>\n",
       "  <tbody>\n",
       "    <tr>\n",
       "      <th>Chili__whitefly</th>\n",
       "      <td>80</td>\n",
       "    </tr>\n",
       "    <tr>\n",
       "      <th>Grape___black_rot</th>\n",
       "      <td>1264</td>\n",
       "    </tr>\n",
       "    <tr>\n",
       "      <th>Pomegranate__healthy</th>\n",
       "      <td>229</td>\n",
       "    </tr>\n",
       "    <tr>\n",
       "      <th>Sugercane___rust</th>\n",
       "      <td>411</td>\n",
       "    </tr>\n",
       "    <tr>\n",
       "      <th>Cassava___bacterial_blight</th>\n",
       "      <td>869</td>\n",
       "    </tr>\n",
       "    <tr>\n",
       "      <th>...</th>\n",
       "      <td>...</td>\n",
       "    </tr>\n",
       "    <tr>\n",
       "      <th>Coffee___red_spider_mite</th>\n",
       "      <td>133</td>\n",
       "    </tr>\n",
       "    <tr>\n",
       "      <th>Sugarcane__red_stripe</th>\n",
       "      <td>42</td>\n",
       "    </tr>\n",
       "    <tr>\n",
       "      <th>Chili__healthy</th>\n",
       "      <td>80</td>\n",
       "    </tr>\n",
       "    <tr>\n",
       "      <th>Bell_pepper___healthy</th>\n",
       "      <td>1182</td>\n",
       "    </tr>\n",
       "    <tr>\n",
       "      <th>Rose___rust</th>\n",
       "      <td>3962</td>\n",
       "    </tr>\n",
       "  </tbody>\n",
       "</table>\n",
       "<p>116 rows × 1 columns</p>\n",
       "</div>"
      ],
      "text/plain": [
       "                            no. of images\n",
       "Chili__whitefly                        80\n",
       "Grape___black_rot                    1264\n",
       "Pomegranate__healthy                  229\n",
       "Sugercane___rust                      411\n",
       "Cassava___bacterial_blight            869\n",
       "...                                   ...\n",
       "Coffee___red_spider_mite              133\n",
       "Sugarcane__red_stripe                  42\n",
       "Chili__healthy                         80\n",
       "Bell_pepper___healthy                1182\n",
       "Rose___rust                          3962\n",
       "\n",
       "[116 rows x 1 columns]"
      ]
     },
     "execution_count": 13,
     "metadata": {},
     "output_type": "execute_result"
    }
   ],
   "source": [
    "# Number of images for each disease\n",
    "nums = {}\n",
    "for disease in diseases:\n",
    "    nums[disease] = len(os.listdir(train_dir + '/' + disease))\n",
    "    \n",
    "# converting the nums dictionary to pandas dataframe passing index as plant name and number of images as column\n",
    "\n",
    "img_per_class = pd.DataFrame(nums.values(), index=nums.keys(), columns=[\"no. of images\"])\n",
    "img_per_class"
   ]
  },
  {
   "cell_type": "markdown",
   "metadata": {
    "papermill": {
     "duration": 0.090681,
     "end_time": "2020-12-15T06:53:04.148485",
     "exception": false,
     "start_time": "2020-12-15T06:53:04.057804",
     "status": "completed"
    },
    "tags": []
   },
   "source": [
    "#### Visualizing the above information on a graph"
   ]
  },
  {
   "cell_type": "code",
   "execution_count": 14,
   "metadata": {
    "execution": {
     "iopub.execute_input": "2020-12-15T06:53:04.334832Z",
     "iopub.status.busy": "2020-12-15T06:53:04.333992Z",
     "iopub.status.idle": "2020-12-15T06:53:04.860737Z",
     "shell.execute_reply": "2020-12-15T06:53:04.859673Z"
    },
    "papermill": {
     "duration": 0.623297,
     "end_time": "2020-12-15T06:53:04.860887",
     "exception": false,
     "start_time": "2020-12-15T06:53:04.237590",
     "status": "completed"
    },
    "tags": []
   },
   "outputs": [
    {
     "data": {
      "text/plain": [
       "Text(0.5, 1.0, 'Images per each class of plant disease')"
      ]
     },
     "execution_count": 14,
     "metadata": {},
     "output_type": "execute_result"
    }
   ],
   "source": [
    "# plotting number of images available for each disease\n",
    "index = [n for n in range(116)]\n",
    "plt.figure(figsize=(20, 5))\n",
    "plt.bar(index, [n for n in nums.values()], width=0.3)\n",
    "plt.xlabel('Plants/Diseases', fontsize=10)\n",
    "plt.ylabel('No of images available', fontsize=10)\n",
    "plt.xticks(index, diseases, fontsize=5, rotation=90)\n",
    "plt.title('Images per each class of plant disease')"
   ]
  },
  {
   "cell_type": "markdown",
   "metadata": {
    "papermill": {
     "duration": 0.068183,
     "end_time": "2020-12-15T06:53:04.997832",
     "exception": false,
     "start_time": "2020-12-15T06:53:04.929649",
     "status": "completed"
    },
    "tags": []
   },
   "source": [
    "We can see that the dataset is almost balanced for all classes, so we are good to go forward"
   ]
  },
  {
   "cell_type": "markdown",
   "metadata": {
    "papermill": {
     "duration": 0.073886,
     "end_time": "2020-12-15T06:53:05.152902",
     "exception": false,
     "start_time": "2020-12-15T06:53:05.079016",
     "status": "completed"
    },
    "tags": []
   },
   "source": [
    "#### Images available for training"
   ]
  },
  {
   "cell_type": "code",
   "execution_count": 15,
   "metadata": {
    "execution": {
     "iopub.execute_input": "2020-12-15T06:53:05.285106Z",
     "iopub.status.busy": "2020-12-15T06:53:05.284437Z",
     "iopub.status.idle": "2020-12-15T06:53:05.287876Z",
     "shell.execute_reply": "2020-12-15T06:53:05.288406Z"
    },
    "papermill": {
     "duration": 0.07225,
     "end_time": "2020-12-15T06:53:05.288530",
     "exception": false,
     "start_time": "2020-12-15T06:53:05.216280",
     "status": "completed"
    },
    "tags": []
   },
   "outputs": [
    {
     "name": "stdout",
     "output_type": "stream",
     "text": [
      "There are 113804 images for training\n"
     ]
    }
   ],
   "source": [
    "n_train = 0\n",
    "for value in nums.values():\n",
    "    n_train += value\n",
    "print(f\"There are {n_train} images for training\")"
   ]
  },
  {
   "cell_type": "code",
   "execution_count": 16,
   "metadata": {},
   "outputs": [
    {
     "name": "stdout",
     "output_type": "stream",
     "text": [
      "Using device: cuda\n",
      "PyTorch Version: 2.8.0+cu128\n",
      "CUDA Version: 12.8\n",
      "GPU: NVIDIA GeForce RTX 4070 Laptop GPU\n"
     ]
    }
   ],
   "source": [
    "device = torch.device(\"cuda\" if torch.cuda.is_available() else \"cpu\")\n",
    "print(f\"Using device: {device}\")\n",
    "print(f\"PyTorch Version: {torch.__version__}\")\n",
    "if torch.cuda.is_available():\n",
    "    print(f\"CUDA Version: {torch.version.cuda}\")\n",
    "    print(f\"GPU: {torch.cuda.get_device_name(0)}\")"
   ]
  },
  {
   "cell_type": "markdown",
   "metadata": {
    "papermill": {
     "duration": 0.064118,
     "end_time": "2020-12-15T06:53:05.416780",
     "exception": false,
     "start_time": "2020-12-15T06:53:05.352662",
     "status": "completed"
    },
    "tags": []
   },
   "source": [
    "# 🍳 Data Preparation for training 🍳"
   ]
  },
  {
   "cell_type": "code",
   "execution_count": 17,
   "metadata": {
    "execution": {
     "iopub.execute_input": "2020-12-15T06:53:05.548188Z",
     "iopub.status.busy": "2020-12-15T06:53:05.547365Z",
     "iopub.status.idle": "2020-12-15T06:54:23.286526Z",
     "shell.execute_reply": "2020-12-15T06:54:23.285629Z"
    },
    "papermill": {
     "duration": 77.805914,
     "end_time": "2020-12-15T06:54:23.286647",
     "exception": false,
     "start_time": "2020-12-15T06:53:05.480733",
     "status": "completed"
    },
    "tags": []
   },
   "outputs": [
    {
     "name": "stdout",
     "output_type": "stream",
     "text": [
      "Loading data with STRONGER augmentations...\n",
      "Dataset sizes: Train=113803, Val=14162, Test=14342\n"
     ]
    }
   ],
   "source": [
    "\n",
    "data_transforms = {\n",
    "    'train': transforms.Compose([\n",
    "        transforms.RandomResizedCrop(224, scale=(0.8, 1.0)),\n",
    "        transforms.RandomHorizontalFlip(),\n",
    "        transforms.TrivialAugmentWide(interpolation=transforms.InterpolationMode.BILINEAR),\n",
    "        transforms.ToTensor(),\n",
    "        transforms.Normalize([0.485, 0.456, 0.406], [0.229, 0.224, 0.225])\n",
    "    ]),\n",
    "    'val': transforms.Compose([\n",
    "        transforms.Resize(256),\n",
    "        transforms.CenterCrop(224),\n",
    "        transforms.ToTensor(),\n",
    "        transforms.Normalize([0.485, 0.456, 0.406], [0.229, 0.224, 0.225])\n",
    "    ]),\n",
    "    'test': transforms.Compose([\n",
    "        transforms.Resize(256),\n",
    "        transforms.CenterCrop(224),\n",
    "        transforms.ToTensor(),\n",
    "        transforms.Normalize([0.485, 0.456, 0.406], [0.229, 0.224, 0.225])\n",
    "    ]),\n",
    "}\n",
    "\n",
    "print(\"Loading data with STRONGER augmentations...\")\n",
    "image_datasets = {x: datasets.ImageFolder(os.path.join(DATA_DIR, x), data_transforms[x]) for x in ['train', 'val', 'test']}\n",
    "dataloaders = {x: DataLoader(image_datasets[x], batch_size=BATCH_SIZE, shuffle=(x=='train'), num_workers=4, pin_memory=True) for x in ['train', 'val', 'test']}\n",
    "dataset_sizes = {x: len(image_datasets[x]) for x in ['train', 'val', 'test']}\n",
    "class_names = image_datasets['train'].classes\n",
    "print(f\"Dataset sizes: Train={dataset_sizes['train']}, Val={dataset_sizes['val']}, Test={dataset_sizes['test']}\")"
   ]
  },
  {
   "cell_type": "code",
   "execution_count": 18,
   "metadata": {},
   "outputs": [
    {
     "name": "stdout",
     "output_type": "stream",
     "text": [
      "Class names saved to class_names.json\n"
     ]
    }
   ],
   "source": [
    "with open('class_names.json', 'w') as f:\n",
    "    json.dump(class_names, f)\n",
    "print(\"Class names saved to class_names.json\")"
   ]
  },
  {
   "cell_type": "markdown",
   "metadata": {},
   "source": [
    "*A \"Good and Complex\" Custom CNN Model Definition*"
   ]
  },
  {
   "cell_type": "code",
   "execution_count": 19,
   "metadata": {},
   "outputs": [
    {
     "name": "stdout",
     "output_type": "stream",
     "text": [
      "CustomCNN model created successfully.\n"
     ]
    }
   ],
   "source": [
    "class SELayer(nn.Module):\n",
    "    def __init__(self, channel, reduction=16):\n",
    "        super(SELayer, self).__init__()\n",
    "        self.avg_pool = nn.AdaptiveAvgPool2d(1)\n",
    "        self.fc = nn.Sequential(\n",
    "            nn.Linear(channel, channel // reduction, bias=False),\n",
    "            nn.SiLU(inplace=True), # Using SiLU activation\n",
    "            nn.Linear(channel // reduction, channel, bias=False),\n",
    "            nn.Sigmoid()\n",
    "        )\n",
    "\n",
    "    def forward(self, x):\n",
    "        b, c, _, _ = x.size()\n",
    "        y = self.avg_pool(x).view(b, c)\n",
    "        y = self.fc(y).view(b, c, 1, 1)\n",
    "        return x * y.expand_as(x)\n",
    "\n",
    "# Next, we upgrade the Residual Block to include the SE Layer and SiLU\n",
    "class EnhancedResidualBlock(nn.Module):\n",
    "    def __init__(self, in_channels, out_channels, stride=1):\n",
    "        super(EnhancedResidualBlock, self).__init__()\n",
    "        self.conv1 = nn.Conv2d(in_channels, out_channels, kernel_size=3, stride=stride, padding=1, bias=False)\n",
    "        self.bn1 = nn.BatchNorm2d(out_channels)\n",
    "        self.silu = nn.SiLU(inplace=True) # Using SiLU instead of ReLU\n",
    "        self.conv2 = nn.Conv2d(out_channels, out_channels, kernel_size=3, stride=1, padding=1, bias=False)\n",
    "        self.bn2 = nn.BatchNorm2d(out_channels)\n",
    "        \n",
    "        # Add the Squeeze-and-Excitation layer\n",
    "        self.se = SELayer(out_channels)\n",
    "\n",
    "        self.shortcut = nn.Sequential()\n",
    "        if stride != 1 or in_channels != out_channels:\n",
    "            self.shortcut = nn.Sequential(\n",
    "                nn.Conv2d(in_channels, out_channels, kernel_size=1, stride=stride, bias=False),\n",
    "                nn.BatchNorm2d(out_channels)\n",
    "            )\n",
    "\n",
    "    def forward(self, x):\n",
    "        out = self.silu(self.bn1(self.conv1(x)))\n",
    "        out = self.bn2(self.conv2(out))\n",
    "        out = self.se(out) # Apply the SE block\n",
    "        out += self.shortcut(x)\n",
    "        out = self.silu(out)\n",
    "        return out\n",
    "\n",
    "# Finally, we build the full CNN with the enhanced blocks and a better classifier\n",
    "class CustomCNN(nn.Module):\n",
    "    def __init__(self, block, num_blocks, num_classes=116):\n",
    "        super(CustomCNN, self).__init__()\n",
    "        self.in_channels = 64\n",
    "        \n",
    "        self.conv1 = nn.Conv2d(3, 64, kernel_size=3, stride=1, padding=1, bias=False)\n",
    "        self.bn1 = nn.BatchNorm2d(64)\n",
    "        self.silu = nn.SiLU(inplace=True)\n",
    "        \n",
    "        self.layer1 = self._make_layer(block, 64, num_blocks[0], stride=1)\n",
    "        self.layer2 = self._make_layer(block, 128, num_blocks[1], stride=2)\n",
    "        self.layer3 = self._make_layer(block, 256, num_blocks[2], stride=2)\n",
    "        self.layer4 = self._make_layer(block, 512, num_blocks[3], stride=2)\n",
    "        \n",
    "        self.avg_pool = nn.AdaptiveAvgPool2d((1, 1))\n",
    "        \n",
    "        # A more robust classifier head with BatchNorm1d\n",
    "        self.classifier = nn.Sequential(\n",
    "            nn.Flatten(),\n",
    "            nn.Linear(512, 1024),\n",
    "            nn.BatchNorm1d(1024), # BatchNorm for stabilization\n",
    "            nn.SiLU(inplace=True),\n",
    "            nn.Dropout(0.5),\n",
    "            nn.Linear(1024, num_classes)\n",
    "        )\n",
    "\n",
    "    def _make_layer(self, block, out_channels, num_blocks, stride):\n",
    "        strides = [stride] + [1]*(num_blocks-1)\n",
    "        layers = []\n",
    "        for s in strides:\n",
    "            layers.append(block(self.in_channels, out_channels, s))\n",
    "            self.in_channels = out_channels\n",
    "        return nn.Sequential(*layers)\n",
    "\n",
    "    def forward(self, x):\n",
    "        out = self.silu(self.bn1(self.conv1(x)))\n",
    "        out = self.layer1(out)\n",
    "        out = self.layer2(out)\n",
    "        out = self.layer3(out)\n",
    "        out = self.layer4(out)\n",
    "        out = self.avg_pool(out)\n",
    "        out = self.classifier(out)\n",
    "        return out\n",
    "\n",
    "# --- Instantiate the new, much better model ---\n",
    "model = CustomCNN(EnhancedResidualBlock, [2, 2, 2, 2], num_classes=NUM_CLASSES)\n",
    "model = model.to(device)\n",
    "print(\"CustomCNN model created successfully.\")"
   ]
  },
  {
   "cell_type": "code",
   "execution_count": 20,
   "metadata": {},
   "outputs": [
    {
     "name": "stdout",
     "output_type": "stream",
     "text": [
      "--- Model Summary for CustomCNN_v1 (before compilation) ---\n",
      "----------------------------------------------------------------\n",
      "        Layer (type)               Output Shape         Param #\n",
      "================================================================\n",
      "            Conv2d-1         [-1, 64, 224, 224]           1,728\n",
      "       BatchNorm2d-2         [-1, 64, 224, 224]             128\n",
      "              SiLU-3         [-1, 64, 224, 224]               0\n",
      "            Conv2d-4         [-1, 64, 224, 224]          36,864\n",
      "       BatchNorm2d-5         [-1, 64, 224, 224]             128\n",
      "              SiLU-6         [-1, 64, 224, 224]               0\n",
      "            Conv2d-7         [-1, 64, 224, 224]          36,864\n",
      "       BatchNorm2d-8         [-1, 64, 224, 224]             128\n",
      " AdaptiveAvgPool2d-9             [-1, 64, 1, 1]               0\n",
      "           Linear-10                    [-1, 4]             256\n",
      "             SiLU-11                    [-1, 4]               0\n",
      "           Linear-12                   [-1, 64]             256\n",
      "          Sigmoid-13                   [-1, 64]               0\n",
      "          SELayer-14         [-1, 64, 224, 224]               0\n",
      "             SiLU-15         [-1, 64, 224, 224]               0\n",
      "EnhancedResidualBlock-16         [-1, 64, 224, 224]               0\n",
      "           Conv2d-17         [-1, 64, 224, 224]          36,864\n",
      "      BatchNorm2d-18         [-1, 64, 224, 224]             128\n",
      "             SiLU-19         [-1, 64, 224, 224]               0\n",
      "           Conv2d-20         [-1, 64, 224, 224]          36,864\n",
      "      BatchNorm2d-21         [-1, 64, 224, 224]             128\n",
      "AdaptiveAvgPool2d-22             [-1, 64, 1, 1]               0\n",
      "           Linear-23                    [-1, 4]             256\n",
      "             SiLU-24                    [-1, 4]               0\n",
      "           Linear-25                   [-1, 64]             256\n",
      "          Sigmoid-26                   [-1, 64]               0\n",
      "          SELayer-27         [-1, 64, 224, 224]               0\n",
      "             SiLU-28         [-1, 64, 224, 224]               0\n",
      "EnhancedResidualBlock-29         [-1, 64, 224, 224]               0\n",
      "           Conv2d-30        [-1, 128, 112, 112]          73,728\n",
      "      BatchNorm2d-31        [-1, 128, 112, 112]             256\n",
      "             SiLU-32        [-1, 128, 112, 112]               0\n",
      "           Conv2d-33        [-1, 128, 112, 112]         147,456\n",
      "      BatchNorm2d-34        [-1, 128, 112, 112]             256\n",
      "AdaptiveAvgPool2d-35            [-1, 128, 1, 1]               0\n",
      "           Linear-36                    [-1, 8]           1,024\n",
      "             SiLU-37                    [-1, 8]               0\n",
      "           Linear-38                  [-1, 128]           1,024\n",
      "          Sigmoid-39                  [-1, 128]               0\n",
      "          SELayer-40        [-1, 128, 112, 112]               0\n",
      "           Conv2d-41        [-1, 128, 112, 112]           8,192\n",
      "      BatchNorm2d-42        [-1, 128, 112, 112]             256\n",
      "             SiLU-43        [-1, 128, 112, 112]               0\n",
      "EnhancedResidualBlock-44        [-1, 128, 112, 112]               0\n",
      "           Conv2d-45        [-1, 128, 112, 112]         147,456\n",
      "      BatchNorm2d-46        [-1, 128, 112, 112]             256\n",
      "             SiLU-47        [-1, 128, 112, 112]               0\n",
      "           Conv2d-48        [-1, 128, 112, 112]         147,456\n",
      "      BatchNorm2d-49        [-1, 128, 112, 112]             256\n",
      "AdaptiveAvgPool2d-50            [-1, 128, 1, 1]               0\n",
      "           Linear-51                    [-1, 8]           1,024\n",
      "             SiLU-52                    [-1, 8]               0\n",
      "           Linear-53                  [-1, 128]           1,024\n",
      "          Sigmoid-54                  [-1, 128]               0\n",
      "          SELayer-55        [-1, 128, 112, 112]               0\n",
      "             SiLU-56        [-1, 128, 112, 112]               0\n",
      "EnhancedResidualBlock-57        [-1, 128, 112, 112]               0\n",
      "           Conv2d-58          [-1, 256, 56, 56]         294,912\n",
      "      BatchNorm2d-59          [-1, 256, 56, 56]             512\n",
      "             SiLU-60          [-1, 256, 56, 56]               0\n",
      "           Conv2d-61          [-1, 256, 56, 56]         589,824\n",
      "      BatchNorm2d-62          [-1, 256, 56, 56]             512\n",
      "AdaptiveAvgPool2d-63            [-1, 256, 1, 1]               0\n",
      "           Linear-64                   [-1, 16]           4,096\n",
      "             SiLU-65                   [-1, 16]               0\n",
      "           Linear-66                  [-1, 256]           4,096\n",
      "          Sigmoid-67                  [-1, 256]               0\n",
      "          SELayer-68          [-1, 256, 56, 56]               0\n",
      "           Conv2d-69          [-1, 256, 56, 56]          32,768\n",
      "      BatchNorm2d-70          [-1, 256, 56, 56]             512\n",
      "             SiLU-71          [-1, 256, 56, 56]               0\n",
      "EnhancedResidualBlock-72          [-1, 256, 56, 56]               0\n",
      "           Conv2d-73          [-1, 256, 56, 56]         589,824\n",
      "      BatchNorm2d-74          [-1, 256, 56, 56]             512\n",
      "             SiLU-75          [-1, 256, 56, 56]               0\n",
      "           Conv2d-76          [-1, 256, 56, 56]         589,824\n",
      "      BatchNorm2d-77          [-1, 256, 56, 56]             512\n",
      "AdaptiveAvgPool2d-78            [-1, 256, 1, 1]               0\n",
      "           Linear-79                   [-1, 16]           4,096\n",
      "             SiLU-80                   [-1, 16]               0\n",
      "           Linear-81                  [-1, 256]           4,096\n",
      "          Sigmoid-82                  [-1, 256]               0\n",
      "          SELayer-83          [-1, 256, 56, 56]               0\n",
      "             SiLU-84          [-1, 256, 56, 56]               0\n",
      "EnhancedResidualBlock-85          [-1, 256, 56, 56]               0\n",
      "           Conv2d-86          [-1, 512, 28, 28]       1,179,648\n",
      "      BatchNorm2d-87          [-1, 512, 28, 28]           1,024\n",
      "             SiLU-88          [-1, 512, 28, 28]               0\n",
      "           Conv2d-89          [-1, 512, 28, 28]       2,359,296\n",
      "      BatchNorm2d-90          [-1, 512, 28, 28]           1,024\n",
      "AdaptiveAvgPool2d-91            [-1, 512, 1, 1]               0\n",
      "           Linear-92                   [-1, 32]          16,384\n",
      "             SiLU-93                   [-1, 32]               0\n",
      "           Linear-94                  [-1, 512]          16,384\n",
      "          Sigmoid-95                  [-1, 512]               0\n",
      "          SELayer-96          [-1, 512, 28, 28]               0\n",
      "           Conv2d-97          [-1, 512, 28, 28]         131,072\n",
      "      BatchNorm2d-98          [-1, 512, 28, 28]           1,024\n",
      "             SiLU-99          [-1, 512, 28, 28]               0\n",
      "EnhancedResidualBlock-100          [-1, 512, 28, 28]               0\n",
      "          Conv2d-101          [-1, 512, 28, 28]       2,359,296\n",
      "     BatchNorm2d-102          [-1, 512, 28, 28]           1,024\n",
      "            SiLU-103          [-1, 512, 28, 28]               0\n",
      "          Conv2d-104          [-1, 512, 28, 28]       2,359,296\n",
      "     BatchNorm2d-105          [-1, 512, 28, 28]           1,024\n",
      "AdaptiveAvgPool2d-106            [-1, 512, 1, 1]               0\n",
      "          Linear-107                   [-1, 32]          16,384\n",
      "            SiLU-108                   [-1, 32]               0\n",
      "          Linear-109                  [-1, 512]          16,384\n",
      "         Sigmoid-110                  [-1, 512]               0\n",
      "         SELayer-111          [-1, 512, 28, 28]               0\n",
      "            SiLU-112          [-1, 512, 28, 28]               0\n",
      "EnhancedResidualBlock-113          [-1, 512, 28, 28]               0\n",
      "AdaptiveAvgPool2d-114            [-1, 512, 1, 1]               0\n",
      "         Flatten-115                  [-1, 512]               0\n",
      "          Linear-116                 [-1, 1024]         525,312\n",
      "     BatchNorm1d-117                 [-1, 1024]           2,048\n",
      "            SiLU-118                 [-1, 1024]               0\n",
      "         Dropout-119                 [-1, 1024]               0\n",
      "          Linear-120                  [-1, 116]         118,900\n",
      "================================================================\n",
      "Total params: 11,902,132\n",
      "Trainable params: 11,902,132\n",
      "Non-trainable params: 0\n",
      "----------------------------------------------------------------\n",
      "Input size (MB): 0.57\n",
      "Forward/backward pass size (MB): 851.46\n",
      "Params size (MB): 45.40\n",
      "Estimated Total Size (MB): 897.44\n",
      "----------------------------------------------------------------\n",
      "----------------------------------------------------------------------\n"
     ]
    }
   ],
   "source": [
    "print(f\"--- Model Summary for {MODEL_NAME} (before compilation) ---\")\n",
    "summary(model, input_size=(3, 224, 224))\n",
    "print(\"-\" * 70)"
   ]
  },
  {
   "cell_type": "code",
   "execution_count": 21,
   "metadata": {},
   "outputs": [
    {
     "name": "stdout",
     "output_type": "stream",
     "text": [
      "Linux or MacOS detected. Attempting to compile the model...\n",
      "Model compiled successfully!\n"
     ]
    }
   ],
   "source": [
    "import platform\n",
    "\n",
    "# --- Step 3: Conditionally compile the model ---\n",
    "if int(torch.__version__.split('.')[0]) >= 2:\n",
    "    # Check the operating system\n",
    "    if platform.system() == \"Windows\":\n",
    "        print(\"Windows OS detected. Skipping torch.compile() due to known issues with Triton dependency.\")\n",
    "    else:\n",
    "        # On Linux or MacOS, compile the model for a performance boost.\n",
    "        print(\"Linux or MacOS detected. Attempting to compile the model...\")\n",
    "        try:\n",
    "            model = torch.compile(model)\n",
    "            print(\"Model compiled successfully!\")\n",
    "        except Exception as e:\n",
    "            print(f\"Model compilation failed: {e}. Continuing without compilation.\")\n",
    "else:\n",
    "    print(\"PyTorch version is less than 2.0. Skipping torch.compile.\")"
   ]
  },
  {
   "cell_type": "markdown",
   "metadata": {
    "papermill": {
     "duration": 0.148317,
     "end_time": "2020-12-15T06:54:33.881587",
     "exception": false,
     "start_time": "2020-12-15T06:54:33.733270",
     "status": "completed"
    },
    "tags": []
   },
   "source": [
    "# 🏗️ Modelling 🏗️"
   ]
  },
  {
   "cell_type": "markdown",
   "metadata": {
    "papermill": {
     "duration": 0.149596,
     "end_time": "2020-12-15T06:54:34.178417",
     "exception": false,
     "start_time": "2020-12-15T06:54:34.028821",
     "status": "completed"
    },
    "tags": []
   },
   "source": [
    "It is advisable to use GPU instead of CPU when dealing with images dataset because CPUs are generalized for general purpose and GPUs are optimized for training deep learning models as they can process multiple computations simultaneously. They have a large number of cores, which allows for better computation of multiple parallel processes. Additionally, computations in deep learning need to handle huge amounts of data — this makes a GPU’s memory bandwidth most suitable.\n",
    "To seamlessly use a GPU, if one is available, we define a couple of helper functions (`get_default_device` & `to_device`) and a helper class `DeviceDataLoader` to move our model & data to the GPU as required"
   ]
  },
  {
   "cell_type": "code",
   "execution_count": 22,
   "metadata": {},
   "outputs": [
    {
     "name": "stdout",
     "output_type": "stream",
     "text": [
      "\n",
      "--- Finding Optimal LR for a VIRTUAL batch size of 64 ---\n"
     ]
    },
    {
     "name": "stderr",
     "output_type": "stream",
     "text": [
      "/home/aiappa/anaconda3/lib/python3.12/site-packages/torch_lr_finder/lr_finder.py:5: TqdmExperimentalWarning: Using `tqdm.autonotebook.tqdm` in notebook mode. Use `tqdm.tqdm` instead to force console mode (e.g. in jupyter console)\n",
      "  from tqdm.autonotebook import tqdm\n"
     ]
    },
    {
     "data": {
      "application/vnd.jupyter.widget-view+json": {
       "model_id": "1643f31261bb45a7bb48bb11c6b2435f",
       "version_major": 2,
       "version_minor": 0
      },
      "text/plain": [
       "  0%|          | 0/200 [00:00<?, ?it/s]"
      ]
     },
     "metadata": {},
     "output_type": "display_data"
    },
    {
     "name": "stdout",
     "output_type": "stream",
     "text": [
      "Stopping early, the loss has diverged\n",
      "Learning rate search finished. See the graph with {finder_name}.plot()\n",
      "LR suggestion: steepest gradient\n",
      "Suggested LR: 3.87E-04\n"
     ]
    },
    {
     "data": {
      "image/png": "[encoded data removed]",
      "text/plain": [
       "<Figure size 2000x500 with 1 Axes>"
      ]
     },
     "metadata": {},
     "output_type": "display_data"
    },
    {
     "data": {
      "image/png": "[encoded data removed]",
      "text/plain": [
       "<Figure size 640x480 with 1 Axes>"
      ]
     },
     "metadata": {},
     "output_type": "display_data"
    },
    {
     "name": "stdout",
     "output_type": "stream",
     "text": [
      "\n",
      "LR Finder suggests a learning rate of: 4.06e-04 for the virtual batch size.\n"
     ]
    }
   ],
   "source": [
    "from torch_lr_finder import LRFinder\n",
    "import numpy as np\n",
    "\n",
    "print(f\"\\n--- Finding Optimal LR for a VIRTUAL batch size of {VIRTUAL_BATCH_SIZE} ---\")\n",
    "\n",
    "finder_model = CustomCNN(EnhancedResidualBlock, [2, 2, 2, 2], num_classes=NUM_CLASSES).to(device)\n",
    "temp_optimizer = optim.AdamW(finder_model.parameters(), lr=1e-7, weight_decay=1e-4)\n",
    "criterion = nn.CrossEntropyLoss(label_smoothing=0.1)\n",
    "\n",
    "lr_finder = LRFinder(finder_model, temp_optimizer, criterion, device=device)\n",
    "\n",
    "# ✨ Pass the accumulation_steps to the finder ✨\n",
    "lr_finder.range_test(\n",
    "    dataloaders['train'], \n",
    "    end_lr=1, \n",
    "    num_iter=200, \n",
    "    accumulation_steps=accumulation_steps # <-- The key addition\n",
    ")\n",
    "\n",
    "# The rest of the logic remains the same\n",
    "losses = np.array(lr_finder.history[\"loss\"])\n",
    "lrs = np.array(lr_finder.history[\"lr\"])\n",
    "min_loss_idx = np.argmin(losses)\n",
    "suggested_lr = lrs[min_loss_idx] / 10\n",
    "\n",
    "lr_finder.plot()\n",
    "lr_finder.reset()\n",
    "\n",
    "print(f\"\\nLR Finder suggests a learning rate of: {suggested_lr:.2e} for the virtual batch size.\")"
   ]
  },
  {
   "cell_type": "code",
   "execution_count": 23,
   "metadata": {},
   "outputs": [
    {
     "name": "stdout",
     "output_type": "stream",
     "text": [
      "Training configured with AdamW, OneCycleLR, and an optimal max_lr of 4.06e-04\n"
     ]
    }
   ],
   "source": [
    "LEARNING_RATE = suggested_lr\n",
    "NUM_EPOCHS = 30 # Train for a reasonable number of epochs\n",
    "\n",
    "criterion = nn.CrossEntropyLoss(label_smoothing=0.1)\n",
    "optimizer = optim.AdamW(model.parameters(), lr=LEARNING_RATE, weight_decay=1e-4)\n",
    "\n",
    "# OneCycleLR is excellent for training from scratch\n",
    "scheduler = optim.lr_scheduler.OneCycleLR(optimizer, \n",
    "                                          max_lr=LEARNING_RATE, \n",
    "                                          epochs=NUM_EPOCHS, \n",
    "                                          steps_per_epoch=len(dataloaders['train']))\n",
    "\n",
    "print(f\"Training configured with AdamW, OneCycleLR, and an optimal max_lr of {LEARNING_RATE:.2e}\")"
   ]
  },
  {
   "cell_type": "code",
   "execution_count": 24,
   "metadata": {},
   "outputs": [
    {
     "name": "stdout",
     "output_type": "stream",
     "text": [
      "No checkpoint found. Starting training from scratch.\n"
     ]
    }
   ],
   "source": [
    "LOAD_CHECKPOINT = True\n",
    "CHECKPOINT_PATH = os.path.join(CHECKPOINT_DIR, 'best_model.pth')\n",
    "start_epoch = 0\n",
    "if LOAD_CHECKPOINT and os.path.exists(CHECKPOINT_PATH):\n",
    "    print(f\"Checkpoint found at {CHECKPOINT_PATH}. Loading...\")\n",
    "    checkpoint = torch.load(CHECKPOINT_PATH, map_location=device)\n",
    "    model.load_state_dict(checkpoint['model_state_dict'])\n",
    "    optimizer.load_state_dict(checkpoint['optimizer_state_dict'])\n",
    "    scheduler.load_state_dict(checkpoint['scheduler_state_dict'])\n",
    "    start_epoch = checkpoint['epoch'] + 1\n",
    "    print(f\"Resuming training from Epoch {start_epoch}\")\n",
    "else:\n",
    "    print(\"No checkpoint found. Starting training from scratch.\")"
   ]
  },
  {
   "cell_type": "code",
   "execution_count": 25,
   "metadata": {},
   "outputs": [],
   "source": [
    "def train_model(model, criterion, optimizer, scheduler, num_epochs=10, start_epoch=0, \n",
    "                early_stopping_patience=5, load_optimizer_state=True, accumulation_steps=1): # <-- New parameter\n",
    "    since = time.time()\n",
    "    best_model_wts = model.state_dict()\n",
    "    best_acc = 0.0\n",
    "    best_epoch = start_epoch\n",
    "    epochs_no_improve = 0\n",
    "    history = {'train_loss': [], 'train_acc': [], 'val_loss': [], 'val_acc': [], 'lrs': []}\n",
    "\n",
    "    scaler = torch.amp.GradScaler('cuda', enabled=(device.type == 'cuda'))\n",
    "\n",
    "    # Checkpoint loading logic remains the same...\n",
    "    if os.path.exists(CHECKPOINT_PATH):\n",
    "        print(f\"Checkpoint found at {CHECKPOINT_PATH}. Loading model weights...\")\n",
    "        checkpoint = torch.load(CHECKPOINT_PATH, map_location=device)\n",
    "        model.load_state_dict(checkpoint['model_state_dict'])\n",
    "        best_acc = checkpoint.get('accuracy', 0.0)\n",
    "        print(f\"Loaded best accuracy from previous run: {best_acc:.4f}\")\n",
    "        \n",
    "        if LOAD_CHECKPOINT and load_optimizer_state:\n",
    "            print(\"Loading optimizer and scheduler state to resume training...\")\n",
    "            optimizer.load_state_dict(checkpoint['optimizer_state_dict'])\n",
    "            scheduler.load_state_dict(checkpoint['scheduler_state_dict'])\n",
    "            start_epoch = checkpoint['epoch'] + 1\n",
    "            print(f\"Resuming training from Epoch {start_epoch}\")\n",
    "        else:\n",
    "            print(\"Starting a new training stage. Optimizer and scheduler are NOT loaded from checkpoint.\")\n",
    "\n",
    "    for epoch in range(start_epoch, num_epochs):\n",
    "        print(f'Epoch {epoch+1}/{num_epochs}'); print('-' * 10)\n",
    "        for phase in ['train', 'val']:\n",
    "            model.train() if phase == 'train' else model.eval()\n",
    "            running_loss, running_corrects = 0.0, 0\n",
    "            \n",
    "            # ✨ THE GRADIENT ACCUMULATION LOGIC STARTS HERE ✨\n",
    "            # We only accumulate during the training phase\n",
    "            if phase == 'train':\n",
    "                optimizer.zero_grad() # Zero out gradients at the start of the epoch's training phase\n",
    "\n",
    "            # Use enumerate to get the batch index 'i'\n",
    "            for i, (inputs, labels) in enumerate(tqdm(dataloaders[phase], desc=f\"{phase} phase\")):\n",
    "                inputs, labels = inputs.to(device, non_blocking=True), labels.to(device, non_blocking=True)\n",
    "                \n",
    "                # The forward pass is the same\n",
    "                with torch.set_grad_enabled(phase == 'train'):\n",
    "                    with torch.amp.autocast('cuda', enabled=(device.type == 'cuda')):\n",
    "                        outputs = model(inputs)\n",
    "                        loss = criterion(outputs, labels)\n",
    "\n",
    "                    _, preds = torch.max(outputs, 1)\n",
    "\n",
    "                    if phase == 'train':\n",
    "                        # Scale the loss by the number of accumulation steps\n",
    "                        # This normalizes the gradient, so the accumulated total is correct\n",
    "                        scaled_loss = loss / accumulation_steps\n",
    "                        \n",
    "                        # Backpropagate the scaled loss\n",
    "                        scaler.scale(scaled_loss).backward()\n",
    "\n",
    "                        # Only update weights every 'accumulation_steps'\n",
    "                        if (i + 1) % accumulation_steps == 0:\n",
    "                            scaler.unscale_(optimizer)\n",
    "                            torch.nn.utils.clip_grad_norm_(model.parameters(), 1.0)\n",
    "                            scaler.step(optimizer)\n",
    "                            scaler.update()\n",
    "                            optimizer.zero_grad() # Zero out for the next accumulation cycle\n",
    "\n",
    "                            if not isinstance(scheduler, torch.optim.lr_scheduler.ReduceLROnPlateau):\n",
    "                                scheduler.step()\n",
    "                                history['lrs'].append(optimizer.param_groups[0]['lr'])\n",
    "                \n",
    "                running_loss += loss.item() * inputs.size(0)\n",
    "                running_corrects += torch.sum(preds == labels.data)\n",
    "\n",
    "            # The rest of the function (epoch stats, validation, saving) remains the same...\n",
    "            epoch_loss = running_loss / dataset_sizes[phase]\n",
    "            epoch_acc = running_corrects.double() / dataset_sizes[phase]\n",
    "            \n",
    "            if phase == 'train':\n",
    "                history['train_loss'].append(epoch_loss); history['train_acc'].append(epoch_acc.item())\n",
    "                writer.add_scalar('Loss/train', epoch_loss, epoch)\n",
    "                writer.add_scalar('Accuracy/train', epoch_acc, epoch)\n",
    "            else: # val phase\n",
    "                history['val_loss'].append(epoch_loss); history['val_acc'].append(epoch_acc.item())\n",
    "                writer.add_scalar('Loss/val', epoch_loss, epoch)\n",
    "                writer.add_scalar('Accuracy/val', epoch_acc, epoch)\n",
    "                writer.add_scalar('Learning_Rate', optimizer.param_groups[0]['lr'], epoch)\n",
    "                \n",
    "                if isinstance(scheduler, torch.optim.lr_scheduler.ReduceLROnPlateau):\n",
    "                    scheduler.step(epoch_loss)\n",
    "                    history['lrs'].append(optimizer.param_groups[0]['lr'])\n",
    "\n",
    "            print(f'{phase} Loss: {epoch_loss:.4f} Acc: {epoch_acc:.4f}')\n",
    "\n",
    "            if phase == 'val':\n",
    "                if epoch_acc > best_acc:\n",
    "                    best_acc, best_epoch, epochs_no_improve = epoch_acc, epoch, 0\n",
    "                    best_model_wts = model.state_dict()\n",
    "                    save_path = os.path.join(CHECKPOINT_DIR, 'best_model.pth')\n",
    "                    torch.save({'epoch': epoch, 'model_state_dict': best_model_wts, 'optimizer_state_dict': optimizer.state_dict(),\n",
    "                                'scheduler_state_dict': scheduler.state_dict(), 'loss': epoch_loss, 'accuracy': best_acc}, save_path)\n",
    "                    print(f\"New best model saved with accuracy: {best_acc:.4f}\")\n",
    "                else:\n",
    "                    epochs_no_improve += 1\n",
    "                    if epochs_no_improve >= early_stopping_patience:\n",
    "                        print(f\"Early stopping triggered. No improvement in {early_stopping_patience} validation epochs.\")\n",
    "                        model.load_state_dict(best_model_wts)\n",
    "                        writer.close()\n",
    "                        return model, history\n",
    "        print()\n",
    "    time_elapsed = time.time() - since\n",
    "    print(f'Training complete in {time_elapsed // 60:.0f}m {time_elapsed % 60:.0f}s')\n",
    "    print(f'Best val Acc: {best_acc:4f} at epoch {best_epoch+1}')\n",
    "    last_epoch_path = os.path.join(CHECKPOINT_DIR, 'last_model.pth')\n",
    "    torch.save({\n",
    "        'epoch': num_epochs - 1,\n",
    "        'model_state_dict': model.state_dict(),\n",
    "        'optimizer_state_dict': optimizer.state_dict(),\n",
    "        'scheduler_state_dict': scheduler.state_dict(),\n",
    "    }, last_epoch_path)\n",
    "    print(f\"Last checkpoint saved to {last_epoch_path}\")\n",
    "\n",
    "    model.load_state_dict(best_model_wts)\n",
    "    writer.close()\n",
    "    return model, history"
   ]
  },
  {
   "cell_type": "code",
   "execution_count": 26,
   "metadata": {},
   "outputs": [
    {
     "name": "stdout",
     "output_type": "stream",
     "text": [
      "Epoch 1/30\n",
      "----------\n"
     ]
    },
    {
     "name": "stderr",
     "output_type": "stream",
     "text": [
      "train phase:  61%|██████▏   | 4364/7113 [12:07<07:38,  6.00it/s]\n"
     ]
    },
    {
     "ename": "KeyboardInterrupt",
     "evalue": "",
     "output_type": "error",
     "traceback": [
      "\u001b[0;31m---------------------------------------------------------------------------\u001b[0m",
      "\u001b[0;31mKeyboardInterrupt\u001b[0m                         Traceback (most recent call last)",
      "Cell \u001b[0;32mIn[26], line 1\u001b[0m\n\u001b[0;32m----> 1\u001b[0m model, history \u001b[38;5;241m=\u001b[39m train_model(model, criterion, optimizer, scheduler, \n\u001b[1;32m      2\u001b[0m                              num_epochs\u001b[38;5;241m=\u001b[39mNUM_EPOCHS, \n\u001b[1;32m      3\u001b[0m                              start_epoch\u001b[38;5;241m=\u001b[39mstart_epoch,\n\u001b[1;32m      4\u001b[0m                              early_stopping_patience\u001b[38;5;241m=\u001b[39m\u001b[38;5;241m5\u001b[39m,\n\u001b[1;32m      5\u001b[0m                              accumulation_steps\u001b[38;5;241m=\u001b[39maccumulation_steps)\n",
      "Cell \u001b[0;32mIn[25], line 72\u001b[0m, in \u001b[0;36mtrain_model\u001b[0;34m(model, criterion, optimizer, scheduler, num_epochs, start_epoch, early_stopping_patience, load_optimizer_state, accumulation_steps)\u001b[0m\n\u001b[1;32m     69\u001b[0m                     scheduler\u001b[38;5;241m.\u001b[39mstep()\n\u001b[1;32m     70\u001b[0m                     history[\u001b[38;5;124m'\u001b[39m\u001b[38;5;124mlrs\u001b[39m\u001b[38;5;124m'\u001b[39m]\u001b[38;5;241m.\u001b[39mappend(optimizer\u001b[38;5;241m.\u001b[39mparam_groups[\u001b[38;5;241m0\u001b[39m][\u001b[38;5;124m'\u001b[39m\u001b[38;5;124mlr\u001b[39m\u001b[38;5;124m'\u001b[39m])\n\u001b[0;32m---> 72\u001b[0m     running_loss \u001b[38;5;241m+\u001b[39m\u001b[38;5;241m=\u001b[39m loss\u001b[38;5;241m.\u001b[39mitem() \u001b[38;5;241m*\u001b[39m inputs\u001b[38;5;241m.\u001b[39msize(\u001b[38;5;241m0\u001b[39m)\n\u001b[1;32m     73\u001b[0m     running_corrects \u001b[38;5;241m+\u001b[39m\u001b[38;5;241m=\u001b[39m torch\u001b[38;5;241m.\u001b[39msum(preds \u001b[38;5;241m==\u001b[39m labels\u001b[38;5;241m.\u001b[39mdata)\n\u001b[1;32m     75\u001b[0m \u001b[38;5;66;03m# The rest of the function (epoch stats, validation, saving) remains the same...\u001b[39;00m\n",
      "\u001b[0;31mKeyboardInterrupt\u001b[0m: "
     ]
    }
   ],
   "source": [
    "model, history = train_model(model, criterion, optimizer, scheduler, \n",
    "                             num_epochs=NUM_EPOCHS, \n",
    "                             start_epoch=start_epoch,\n",
    "                             early_stopping_patience=5,\n",
    "                             accumulation_steps=accumulation_steps) "
   ]
  },
  {
   "cell_type": "code",
   "execution_count": null,
   "metadata": {},
   "outputs": [],
   "source": [
    "\n",
    "\n",
    "# --- UNIFIED PLOTTING FUNCTION ---\n",
    "def plot_training_history(history, model_name):\n",
    "    \"\"\"\n",
    "    Plots training & validation accuracy/loss. Annotates best val accuracy.\n",
    "    \"\"\"\n",
    "    train_acc = history['train_acc']\n",
    "    val_acc = history['val_acc']\n",
    "    train_loss = history['train_loss']\n",
    "    val_loss = history['val_loss']\n",
    "\n",
    "    fig, (ax1, ax2) = plt.subplots(1, 2, figsize=(20, 7))\n",
    "    fig.suptitle(f'Training History for {model_name}', fontsize=16)\n",
    "\n",
    "    ax1.plot(train_acc, label='Train Acc', marker='o')\n",
    "    ax1.plot(val_acc, label='Val Acc', marker='o')\n",
    "    ax1.set_title('Accuracy')\n",
    "    ax1.set_xlabel('Epoch')\n",
    "    ax1.set_ylabel('Accuracy')\n",
    "    ax1.grid(True, alpha=0.3)\n",
    "\n",
    "    if val_acc:\n",
    "        best_epoch = int(np.argmax(val_acc))\n",
    "        best_val_acc = val_acc[best_epoch]\n",
    "        ax1.axvline(best_epoch, color='r', linestyle='--', linewidth=1)\n",
    "        ax1.annotate(f'Best: {best_val_acc:.4f}\\nEp {best_epoch+1}',\n",
    "                     xy=(best_epoch, best_val_acc),\n",
    "                     xytext=(best_epoch, max(0, best_val_acc - 0.1)),\n",
    "                     arrowprops=dict(facecolor='black', arrowstyle='->'),\n",
    "                     ha='center', fontsize=10)\n",
    "    ax1.legend()\n",
    "\n",
    "    ax2.plot(train_loss, label='Train Loss', marker='o')\n",
    "    ax2.plot(val_loss, label='Val Loss', marker='o')\n",
    "    ax2.set_title('Loss')\n",
    "    ax2.set_xlabel('Epoch')\n",
    "    ax2.set_ylabel('Loss')\n",
    "    ax2.grid(True, alpha=0.3)\n",
    "    ax2.legend()\n",
    "\n",
    "    plt.tight_layout()\n",
    "    plt.show()\n",
    "\n",
    "\n",
    "def plot_learning_rate_schedule(history):\n",
    "    lrs = history.get('lrs', [])\n",
    "    if len(lrs) > 0:\n",
    "        plt.figure(figsize=(12,4))\n",
    "        plt.plot(lrs)\n",
    "        plt.title('Learning Rate (per batch)')\n",
    "        plt.xlabel('Batch # (cumulative)')\n",
    "        plt.ylabel('LR')\n",
    "        plt.grid(alpha=0.3)\n",
    "        plt.show()\n",
    "    else:\n",
    "        print('No LR data to plot.')\n",
    "\n",
    "# --- Evaluation helpers ---\n",
    "from sklearn.metrics import confusion_matrix, classification_report\n",
    "import seaborn as sns\n",
    "\n",
    "def evaluate_model(model, dataloader, class_names, device):\n",
    "    model.eval()\n",
    "    all_preds = []\n",
    "    all_labels = []\n",
    "    with torch.no_grad():\n",
    "        for inputs, labels in tqdm(dataloader, desc='Eval'):\n",
    "            inputs = inputs.to(device, non_blocking=True)\n",
    "            labels = labels.to(device, non_blocking=True)\n",
    "            outputs = model(inputs)\n",
    "            _, preds = torch.max(outputs, 1)\n",
    "            all_preds.append(preds.cpu().numpy())\n",
    "            all_labels.append(labels.cpu().numpy())\n",
    "    all_preds = np.concatenate(all_preds)\n",
    "    all_labels = np.concatenate(all_labels)\n",
    "    return all_labels, all_preds\n",
    "\n",
    "\n",
    "def plot_confusion_matrix(labels, preds, class_names, normalize=True, max_classes_display=50):\n",
    "    cm = confusion_matrix(labels, preds)\n",
    "    if normalize:\n",
    "        cm = cm.astype('float') / cm.sum(axis=1, keepdims=True)\n",
    "    # If too many classes, show a subset heatmap legend only\n",
    "    if len(class_names) > max_classes_display:\n",
    "        print(f\"Too many classes ({len(class_names)}). Showing aggregated stats.\")\n",
    "        avg_diag = np.nanmean(np.diag(cm))\n",
    "        print(f\"Mean per-class accuracy: {avg_diag:.4f}\")\n",
    "        return\n",
    "    plt.figure(figsize=(min(1+0.3*len(class_names), 25), min(1+0.3*len(class_names), 25)))\n",
    "    sns.heatmap(cm, cmap='viridis', xticklabels=class_names, yticklabels=class_names, fmt='.2f' if normalize else 'd')\n",
    "    plt.xlabel('Predicted')\n",
    "    plt.ylabel('True')\n",
    "    plt.title('Confusion Matrix' + (' (Normalized)' if normalize else ''))\n",
    "    plt.tight_layout()\n",
    "    plt.show()\n",
    "\n",
    "\n",
    "def show_misclassified(model, dataloader, class_names, device, n=12):\n",
    "    model.eval()\n",
    "    images = []\n",
    "    labels_true = []\n",
    "    labels_pred = []\n",
    "    with torch.no_grad():\n",
    "        for inputs, labels in dataloader:\n",
    "            inputs = inputs.to(device)\n",
    "            outputs = model(inputs)\n",
    "            _, preds = torch.max(outputs, 1)\n",
    "            mismatch = preds != labels.to(device)\n",
    "            if mismatch.any():\n",
    "                for i in torch.where(mismatch)[0]:\n",
    "                    images.append(inputs[i].cpu())\n",
    "                    labels_true.append(labels[i].item())\n",
    "                    labels_pred.append(preds[i].item())\n",
    "                    if len(images) >= n:\n",
    "                        break\n",
    "            if len(images) >= n:\n",
    "                break\n",
    "    if len(images) == 0:\n",
    "        print('No misclassifications found in this subset.')\n",
    "        return\n",
    "    # Denormalize for display\n",
    "    mean = torch.tensor([0.485, 0.456, 0.406]).view(3,1,1)\n",
    "    std = torch.tensor([0.229, 0.224, 0.225]).view(3,1,1)\n",
    "    cols = 4\n",
    "    rows = int(np.ceil(len(images)/cols))\n",
    "    plt.figure(figsize=(cols*4, rows*4))\n",
    "    for idx, img in enumerate(images):\n",
    "        img_dn = img*std + mean\n",
    "        img_np = np.clip(img_dn.permute(1,2,0).numpy(), 0, 1)\n",
    "        ax = plt.subplot(rows, cols, idx+1)\n",
    "        ax.imshow(img_np)\n",
    "        ax.axis('off')\n",
    "        ax.set_title(f\"T: {class_names[labels_true[idx]][:15]}\\nP: {class_names[labels_pred[idx]][:15]}\", fontsize=9)\n",
    "    plt.suptitle('Sample Misclassified Images', fontsize=16)\n",
    "    plt.tight_layout()\n",
    "    plt.show()\n",
    "\n",
    "# --- Grad-CAM (lightweight) ---\n",
    "class GradCAM:\n",
    "    def __init__(self, model, target_layer):\n",
    "        self.model = model\n",
    "        self.target_layer = target_layer\n",
    "        self.gradients = None\n",
    "        self.activations = None\n",
    "        target_layer.register_forward_hook(self.forward_hook)\n",
    "        target_layer.register_backward_hook(self.backward_hook)\n",
    "\n",
    "    def forward_hook(self, module, inp, out):\n",
    "        self.activations = out.detach()\n",
    "\n",
    "    def backward_hook(self, module, grad_in, grad_out):\n",
    "        self.gradients = grad_out[0].detach()\n",
    "\n",
    "    def generate(self, input_tensor, class_idx=None):\n",
    "        self.model.zero_grad()\n",
    "        output = self.model(input_tensor)\n",
    "        if class_idx is None:\n",
    "            class_idx = output.argmax(dim=1)\n",
    "        selected = output[0, class_idx]\n",
    "        selected.backward(retain_graph=True)\n",
    "        weights = self.gradients.mean(dim=[2,3], keepdim=True)\n",
    "        cam = (weights * self.activations).sum(dim=1, keepdim=True)\n",
    "        cam = torch.relu(cam)\n",
    "        cam = torch.nn.functional.interpolate(cam, size=input_tensor.shape[2:], mode='bilinear', align_corners=False)\n",
    "        cam_min, cam_max = cam.min(), cam.max()\n",
    "        cam = (cam - cam_min)/(cam_max - cam_min + 1e-8)\n",
    "        return cam[0,0].cpu().numpy()\n",
    "\n",
    "\n",
    "def visualize_gradcam(model, dataloader, class_names, device, n=3):\n",
    "    # Pick the last residual layer for Grad-CAM\n",
    "    target_layer = model.layer4[-1].bn2\n",
    "    gradcam = GradCAM(model, target_layer)\n",
    "\n",
    "    mean = torch.tensor([0.485, 0.456, 0.406]).view(3,1,1)\n",
    "    std = torch.tensor([0.229, 0.224, 0.225]).view(3,1,1)\n",
    "\n",
    "    shown = 0\n",
    "    for inputs, labels in dataloader:\n",
    "        for i in range(inputs.size(0)):\n",
    "            if shown >= n:\n",
    "                return\n",
    "            inp = inputs[i:i+1].to(device)\n",
    "            cam = gradcam.generate(inp)\n",
    "            img = (inputs[i]*std + mean).permute(1,2,0).numpy()\n",
    "            img = np.clip(img, 0, 1)\n",
    "            plt.figure(figsize=(4,4))\n",
    "            plt.imshow(img)\n",
    "            plt.imshow(cam, cmap='jet', alpha=0.4)\n",
    "            pred_class = class_names[model(inp).argmax(1).item()]\n",
    "            plt.title(f\"True: {class_names[labels[i]]}\\nPred: {pred_class}\")\n",
    "            plt.axis('off')\n",
    "            plt.show()\n",
    "            shown += 1\n",
    "\n",
    "print(\"Visualization & evaluation helpers ready.\")"
   ]
  },
  {
   "cell_type": "code",
   "execution_count": null,
   "metadata": {},
   "outputs": [],
   "source": [
    "print(\"\\n--- Generating Training Plots ---\")\n",
    "plot_training_history(history, MODEL_NAME)\n",
    "plot_learning_rate_schedule(history)"
   ]
  },
  {
   "cell_type": "code",
   "execution_count": null,
   "metadata": {},
   "outputs": [],
   "source": [
    "print(\"\\n--- Evaluating on Test Set ---\")\n",
    "# IMPORTANT: Load the BEST model from checkpoint for final evaluation\n",
    "print(\"Loading best model for final evaluation...\")\n",
    "final_model = CustomCNN(EnhancedResidualBlock, [2, 2, 2, 2], num_classes=NUM_CLASSES)\n",
    "if int(torch.__version__.split('.')[0]) >= 2:\n",
    "    # Check the operating system\n",
    "    if platform.system() != \"Windows\":\n",
    "        try:\n",
    "            final_model = torch.compile(final_model) # Compile the evaluation model too\n",
    "        except Exception as e:\n",
    "            print(f\"Could not compile the final model: {e}\")\n",
    "final_model.to(device)\n",
    "checkpoint = torch.load(CHECKPOINT_PATH, map_location=device)\n",
    "final_model.load_state_dict(checkpoint['model_state_dict'])\n",
    "\n",
    "# Get predictions and labels\n",
    "test_labels, test_preds = evaluate_model(final_model, dataloaders['test'], class_names, device)\n",
    "\n",
    "# Print Classification Report\n",
    "print(\"\\n--- Classification Report ---\")\n",
    "print(classification_report(test_labels, test_preds, target_names=class_names, digits=4))\n",
    "\n",
    "# Plot Confusion Matrix\n",
    "print(\"\\n--- Confusion Matrix ---\")\n",
    "plot_confusion_matrix(test_labels, test_preds, class_names)\n",
    "\n",
    "# Show some misclassified images\n",
    "print(\"\\n--- Sample Misclassified Images ---\")\n",
    "show_misclassified(final_model, dataloaders['test'], class_names, device)\n",
    "\n",
    "# Show Grad-CAM visualizations\n",
    "print(\"\\n--- Grad-CAM Visualizations ---\")\n",
    "# For Grad-CAM, it's often better to target the final conv layer before the BN\n",
    "target_layer = final_model.layer4[-1].conv2 \n",
    "visualize_gradcam(final_model, dataloaders['test'], class_names, device, target_layer=target_layer)"
   ]
  }
 ],
 "metadata": {
  "kernelspec": {
   "display_name": "base",
   "language": "python",
   "name": "python3"
  },
  "language_info": {
   "codemirror_mode": {
    "name": "ipython",
    "version": 3
   },
   "file_extension": ".py",
   "mimetype": "text/x-python",
   "name": "python",
   "nbconvert_exporter": "python",
   "pygments_lexer": "ipython3",
   "version": "3.12.7"
  },
  "papermill": {
   "duration": 1424.697889,
   "end_time": "2020-12-15T07:16:24.493770",
   "environment_variables": {},
   "exception": null,
   "input_path": "__notebook__.ipynb",
   "output_path": "__notebook__.ipynb",
   "parameters": {},
   "start_time": "2020-12-15T06:52:39.795881",
   "version": "2.1.0"
  }
 },
 "nbformat": 4,
 "nbformat_minor": 4
}
